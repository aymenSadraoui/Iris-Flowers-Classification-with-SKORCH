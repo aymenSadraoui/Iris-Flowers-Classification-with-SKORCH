{
 "cells": [
  {
   "cell_type": "code",
   "execution_count": 2,
   "id": "267904a3-49ba-49a4-8b85-772ab8bd97fd",
   "metadata": {},
   "outputs": [],
   "source": [
    "import os\n",
    "import random\n",
    "import seaborn as sns\n",
    "from sklearn.datasets import load_iris\n",
    "import pandas as pd\n",
    "import numpy as np\n",
    "import matplotlib.pyplot as plt\n",
    "from sklearn.preprocessing import StandardScaler\n",
    "\n",
    "import torch\n",
    "import torch.nn as nn\n",
    "import torchvision.transforms as tt\n",
    "import torchvision.models as models\n",
    "from torch.utils.data import DataLoader, Dataset\n",
    "from torch.nn.utils import clip_grad_norm_\n",
    "\n",
    "from sklearn.model_selection import train_test_split\n",
    "from sklearn.metrics import *\n",
    "from imblearn.under_sampling import RandomUnderSampler\n",
    "from collections import Counter\n",
    "\n",
    "from skorch import NeuralNetClassifier\n",
    "from sklearn.model_selection import GridSearchCV\n",
    "from skorch.callbacks import LRScheduler, EarlyStopping, EpochScoring, Checkpoint\n",
    "\n",
    "seed=2\n",
    "np.random.seed(seed)\n",
    "random.seed(seed)\n",
    "torch.manual_seed(seed)\n",
    "\n",
    "data = load_iris()\n",
    "sns.set(style='darkgrid')"
   ]
  },
  {
   "cell_type": "code",
   "execution_count": 3,
   "id": "ec62ca91-98dc-42ea-9f59-9dfb3759f11d",
   "metadata": {},
   "outputs": [
    {
     "data": {
      "text/html": [
       "<div>\n",
       "<style scoped>\n",
       "    .dataframe tbody tr th:only-of-type {\n",
       "        vertical-align: middle;\n",
       "    }\n",
       "\n",
       "    .dataframe tbody tr th {\n",
       "        vertical-align: top;\n",
       "    }\n",
       "\n",
       "    .dataframe thead th {\n",
       "        text-align: right;\n",
       "    }\n",
       "</style>\n",
       "<table border=\"1\" class=\"dataframe\">\n",
       "  <thead>\n",
       "    <tr style=\"text-align: right;\">\n",
       "      <th></th>\n",
       "      <th>feature_0</th>\n",
       "      <th>feature_1</th>\n",
       "      <th>feature_2</th>\n",
       "      <th>feature_3</th>\n",
       "      <th>target</th>\n",
       "    </tr>\n",
       "  </thead>\n",
       "  <tbody>\n",
       "    <tr>\n",
       "      <th>0</th>\n",
       "      <td>5.1</td>\n",
       "      <td>3.5</td>\n",
       "      <td>1.4</td>\n",
       "      <td>0.2</td>\n",
       "      <td>0</td>\n",
       "    </tr>\n",
       "    <tr>\n",
       "      <th>1</th>\n",
       "      <td>4.9</td>\n",
       "      <td>3.0</td>\n",
       "      <td>1.4</td>\n",
       "      <td>0.2</td>\n",
       "      <td>0</td>\n",
       "    </tr>\n",
       "    <tr>\n",
       "      <th>2</th>\n",
       "      <td>4.7</td>\n",
       "      <td>3.2</td>\n",
       "      <td>1.3</td>\n",
       "      <td>0.2</td>\n",
       "      <td>0</td>\n",
       "    </tr>\n",
       "    <tr>\n",
       "      <th>3</th>\n",
       "      <td>4.6</td>\n",
       "      <td>3.1</td>\n",
       "      <td>1.5</td>\n",
       "      <td>0.2</td>\n",
       "      <td>0</td>\n",
       "    </tr>\n",
       "    <tr>\n",
       "      <th>4</th>\n",
       "      <td>5.0</td>\n",
       "      <td>3.6</td>\n",
       "      <td>1.4</td>\n",
       "      <td>0.2</td>\n",
       "      <td>0</td>\n",
       "    </tr>\n",
       "    <tr>\n",
       "      <th>...</th>\n",
       "      <td>...</td>\n",
       "      <td>...</td>\n",
       "      <td>...</td>\n",
       "      <td>...</td>\n",
       "      <td>...</td>\n",
       "    </tr>\n",
       "    <tr>\n",
       "      <th>145</th>\n",
       "      <td>6.7</td>\n",
       "      <td>3.0</td>\n",
       "      <td>5.2</td>\n",
       "      <td>2.3</td>\n",
       "      <td>2</td>\n",
       "    </tr>\n",
       "    <tr>\n",
       "      <th>146</th>\n",
       "      <td>6.3</td>\n",
       "      <td>2.5</td>\n",
       "      <td>5.0</td>\n",
       "      <td>1.9</td>\n",
       "      <td>2</td>\n",
       "    </tr>\n",
       "    <tr>\n",
       "      <th>147</th>\n",
       "      <td>6.5</td>\n",
       "      <td>3.0</td>\n",
       "      <td>5.2</td>\n",
       "      <td>2.0</td>\n",
       "      <td>2</td>\n",
       "    </tr>\n",
       "    <tr>\n",
       "      <th>148</th>\n",
       "      <td>6.2</td>\n",
       "      <td>3.4</td>\n",
       "      <td>5.4</td>\n",
       "      <td>2.3</td>\n",
       "      <td>2</td>\n",
       "    </tr>\n",
       "    <tr>\n",
       "      <th>149</th>\n",
       "      <td>5.9</td>\n",
       "      <td>3.0</td>\n",
       "      <td>5.1</td>\n",
       "      <td>1.8</td>\n",
       "      <td>2</td>\n",
       "    </tr>\n",
       "  </tbody>\n",
       "</table>\n",
       "<p>150 rows × 5 columns</p>\n",
       "</div>"
      ],
      "text/plain": [
       "     feature_0  feature_1  feature_2  feature_3  target\n",
       "0          5.1        3.5        1.4        0.2       0\n",
       "1          4.9        3.0        1.4        0.2       0\n",
       "2          4.7        3.2        1.3        0.2       0\n",
       "3          4.6        3.1        1.5        0.2       0\n",
       "4          5.0        3.6        1.4        0.2       0\n",
       "..         ...        ...        ...        ...     ...\n",
       "145        6.7        3.0        5.2        2.3       2\n",
       "146        6.3        2.5        5.0        1.9       2\n",
       "147        6.5        3.0        5.2        2.0       2\n",
       "148        6.2        3.4        5.4        2.3       2\n",
       "149        5.9        3.0        5.1        1.8       2\n",
       "\n",
       "[150 rows x 5 columns]"
      ]
     },
     "execution_count": 3,
     "metadata": {},
     "output_type": "execute_result"
    }
   ],
   "source": [
    "df=pd.DataFrame(columns=['feature_'+str(i) for i in range(4)])\n",
    "\n",
    "df[['feature_'+str(i) for i in range(4)]]=data['data']\n",
    "df['target']=data['target']\n",
    "\n",
    "df"
   ]
  },
  {
   "cell_type": "code",
   "execution_count": 4,
   "id": "6bfed6ea-7db4-4bee-a732-f372477f853a",
   "metadata": {},
   "outputs": [],
   "source": [
    "ss= StandardScaler()\n",
    "\n",
    "df[['feature_'+str(i) for i in range(4)]]=ss.fit_transform(df[['feature_'+str(i) for i in range(4)]])"
   ]
  },
  {
   "cell_type": "code",
   "execution_count": 5,
   "id": "5d6960e5-5dd5-4796-a6b7-08cd99c87baa",
   "metadata": {},
   "outputs": [],
   "source": [
    "X, y = df[['feature_'+str(i) for i in range(4)]], df['target']"
   ]
  },
  {
   "cell_type": "code",
   "execution_count": 6,
   "id": "6f80afee-a5f7-4b6c-b4a1-0853b3dd49b0",
   "metadata": {},
   "outputs": [],
   "source": [
    "X, y = X.values.astype('float32'), y.astype('int64')\n",
    "\n",
    "X_train, X_test, y_train, y_test = train_test_split(X, y, stratify=y, random_state=seed, test_size=50/150)"
   ]
  },
  {
   "cell_type": "code",
   "execution_count": 7,
   "id": "96fa8884-8074-4162-8ff9-20c6efa69060",
   "metadata": {},
   "outputs": [],
   "source": [
    "class IrisSet(Dataset):\n",
    "    def __init__(self, X, y):\n",
    "        self.X=X\n",
    "        self.y=y\n",
    "        \n",
    "    def __len__(self):\n",
    "        return len(self.y)\n",
    "    \n",
    "    def __getitem__(self, i):\n",
    "        return self.X[i], self.y[i]"
   ]
  },
  {
   "cell_type": "code",
   "execution_count": 8,
   "id": "53847170-d635-4f5c-8345-8fef372da38e",
   "metadata": {},
   "outputs": [],
   "source": [
    "data_set=IrisSet(X, y)"
   ]
  },
  {
   "cell_type": "code",
   "execution_count": 9,
   "id": "7784d9f2-0782-4d22-b7ec-48592b93bacf",
   "metadata": {},
   "outputs": [],
   "source": [
    "LR=0.01\n",
    "BS=10\n",
    "EPOCHS=75"
   ]
  },
  {
   "cell_type": "code",
   "execution_count": 10,
   "id": "15879695-a002-4595-8125-7bcaea3070db",
   "metadata": {},
   "outputs": [],
   "source": [
    "class IrisModel(nn.Module):\n",
    "    def __init__(self, in_f1=8, in_f2=16):\n",
    "        super().__init__()\n",
    "        \n",
    "        self.in_f1=in_f1\n",
    "        self.in_f2=in_f2\n",
    "        \n",
    "        self.fc1=nn.Linear(4, self.in_f1)\n",
    "        self.fc2=nn.Linear(self.in_f1, self.in_f2)\n",
    "        self.fc3=nn.Linear(self.in_f2, 3)\n",
    "        \n",
    "        self.bn1=nn.BatchNorm1d(in_f1)\n",
    "        self.bn2=nn.BatchNorm1d(in_f2)\n",
    "        \n",
    "        self.dropout=nn.Dropout(p=0.35)\n",
    "        \n",
    "        self.relu=nn.ReLU()\n",
    "        self.softmax=nn.Softmax(dim=1)\n",
    "        \n",
    "    def forward(self,x):\n",
    "        x=self.bn1(self.relu(self.fc1(x)))\n",
    "        x=self.dropout(x)\n",
    "        x=self.bn2(self.relu(self.fc2(x)))\n",
    "        x=self.dropout(x)\n",
    "        out=self.softmax(self.fc3(x))\n",
    "        return out"
   ]
  },
  {
   "cell_type": "code",
   "execution_count": 11,
   "id": "6324080c-b064-40ae-b8b9-58e99de6e4e9",
   "metadata": {},
   "outputs": [],
   "source": [
    "from sklearn.model_selection import GridSearchCV\n",
    "\n",
    "params = {\n",
    "'lr': [0.0001, 0.001, 0.01, 0.1],\n",
    "'module__in_f1': [64, 128, 256, 512],\n",
    "'module__in_f2': [4, 8, 16, 32, 64],\n",
    "}"
   ]
  },
  {
   "cell_type": "code",
   "execution_count": 12,
   "id": "dad64c47-0684-4485-866e-a328bd8b44d6",
   "metadata": {},
   "outputs": [],
   "source": [
    "model1=IrisModel()\n",
    "\n",
    "criterion1 = nn.CrossEntropyLoss()\n",
    "lrscheduler1 = LRScheduler(policy='StepLR', step_size=10, gamma=0.15)\n",
    "early_stopping1 = EarlyStopping(monitor='valid_loss', patience = 5, lower_is_better=True)\n",
    "\n",
    "net1 = NeuralNetClassifier(module=model1, \n",
    "                          max_epochs=EPOCHS,\n",
    "                          optimizer=torch.optim.Adam,\n",
    "                          criterion=nn.CrossEntropyLoss,\n",
    "                          lr=LR, \n",
    "                          batch_size=BS,\n",
    "                          iterator_train__shuffle=True, # Shuffle training data on each epoch\n",
    "                          iterator_valid__shuffle=False, # DO NOT Shuffle validation data on each epoch\n",
    "                          callbacks=[lrscheduler1],\n",
    "                          device='cpu',\n",
    "                          verbose=0)"
   ]
  },
  {
   "cell_type": "code",
   "execution_count": 13,
   "id": "3f3d182d-4f93-4f14-976a-6d4368b41e6e",
   "metadata": {},
   "outputs": [],
   "source": [
    "gs=GridSearchCV(net1, params, scoring='accuracy', verbose=1, cv=3, refit=False)"
   ]
  },
  {
   "cell_type": "code",
   "execution_count": 14,
   "id": "319e381e-eeda-4640-8417-668e641dbfe5",
   "metadata": {},
   "outputs": [
    {
     "name": "stdout",
     "output_type": "stream",
     "text": [
      "Fitting 3 folds for each of 80 candidates, totalling 240 fits\n"
     ]
    }
   ],
   "source": [
    "gs=gs.fit(X, y)"
   ]
  },
  {
   "cell_type": "code",
   "execution_count": 15,
   "id": "261cfefe-1158-4fd9-8da7-2d51a535a146",
   "metadata": {},
   "outputs": [
    {
     "data": {
      "text/plain": [
       "{'lr': 0.01, 'module__in_f1': 128, 'module__in_f2': 8}"
      ]
     },
     "execution_count": 15,
     "metadata": {},
     "output_type": "execute_result"
    }
   ],
   "source": [
    "gs.best_params_"
   ]
  },
  {
   "cell_type": "code",
   "execution_count": 16,
   "id": "3f3b24b0-d966-426f-aebc-8e377a26e152",
   "metadata": {},
   "outputs": [
    {
     "data": {
      "text/plain": [
       "0.9866666666666667"
      ]
     },
     "execution_count": 16,
     "metadata": {},
     "output_type": "execute_result"
    }
   ],
   "source": [
    "gs.best_score_"
   ]
  },
  {
   "cell_type": "code",
   "execution_count": 17,
   "id": "e485c4ad-ba6c-41e7-997f-501a695c4220",
   "metadata": {},
   "outputs": [],
   "source": [
    "LR=gs.best_params_['lr']\n",
    "in_f1=gs.best_params_['module__in_f1']\n",
    "in_f2=gs.best_params_['module__in_f2']"
   ]
  },
  {
   "cell_type": "code",
   "execution_count": 18,
   "id": "67814a4d-336c-4125-ad40-d6d3ae1176e9",
   "metadata": {},
   "outputs": [],
   "source": [
    "model=IrisModel(in_f1, in_f2)\n",
    "\n",
    "BATCH_SIZE=16\n",
    "LEARNING_RATE=0.1\n",
    "EPOCHS=75\n",
    "STEP_SIZE=10\n",
    "GAMMA=0.1*np.sqrt(3)\n",
    "\n",
    "lrscheduler = LRScheduler(policy='StepLR', step_size=STEP_SIZE, gamma=GAMMA)\n",
    "checkpoint = Checkpoint(f_params='best_model.pt', monitor='valid_acc_best')\n",
    "\n",
    "acc_train = EpochScoring(scoring='accuracy', lower_is_better=False, on_train=True, name='train_acc')\n",
    "f1_macro_train = EpochScoring(scoring='f1_macro', lower_is_better=False, on_train=True, name='train_f1')\n",
    "f1_macro_valid = EpochScoring(scoring='f1_macro', lower_is_better=False, on_train=False, name='valid_f1')\n",
    "roc_train = EpochScoring(scoring='roc_auc_ovo', lower_is_better=False, on_train=True, name='train_roc')\n",
    "roc_test = EpochScoring(scoring='roc_auc_ovo', lower_is_better=False, on_train=False, name='valid_roc')\n",
    "\n",
    "metrics=[acc_train, f1_macro_train, f1_macro_valid , roc_train ,roc_test]\n",
    "\n",
    "net = NeuralNetClassifier(module=model, \n",
    "                          max_epochs=EPOCHS,\n",
    "                          optimizer=torch.optim.Adam,\n",
    "                          criterion=nn.CrossEntropyLoss,\n",
    "                          lr=LR, \n",
    "                          batch_size=BS,\n",
    "                          iterator_train__shuffle=True, # Shuffle training data on each epoch\n",
    "                          iterator_valid__shuffle=False, # DO NOT Shuffle validation data on each epoch\n",
    "                          callbacks=[lrscheduler, checkpoint]+metrics,\n",
    "                          device='cpu',\n",
    "                          verbose=1)"
   ]
  },
  {
   "cell_type": "code",
   "execution_count": 19,
   "id": "8467cb5d-e0d7-497d-85e5-e5bb1d3a170f",
   "metadata": {},
   "outputs": [
    {
     "name": "stdout",
     "output_type": "stream",
     "text": [
      "  epoch    train_acc    train_f1    train_loss    train_roc    valid_acc    valid_f1    valid_loss    valid_roc    cp      lr     dur\n",
      "-------  -----------  ----------  ------------  -----------  -----------  ----------  ------------  -----------  ----  ------  ------\n",
      "      1       \u001b[36m0.6125\u001b[0m      \u001b[32m0.6164\u001b[0m        \u001b[35m0.9553\u001b[0m       \u001b[31m0.7990\u001b[0m       \u001b[94m0.8000\u001b[0m      \u001b[36m0.7897\u001b[0m        \u001b[32m0.8748\u001b[0m       \u001b[35m0.9643\u001b[0m     +  0.0100  0.0248\n",
      "      2       \u001b[36m0.8500\u001b[0m      \u001b[32m0.8520\u001b[0m        \u001b[35m0.7865\u001b[0m       \u001b[31m0.9658\u001b[0m       \u001b[94m0.8500\u001b[0m      \u001b[36m0.8453\u001b[0m        \u001b[32m0.7817\u001b[0m       \u001b[35m0.9802\u001b[0m     +  0.0100  0.0266\n",
      "      3       0.8500      0.8468        \u001b[35m0.7614\u001b[0m       0.9530       0.8500      \u001b[36m0.8462\u001b[0m        \u001b[32m0.7236\u001b[0m       \u001b[35m0.9881\u001b[0m        0.0100  0.0266\n",
      "      4       \u001b[36m0.9125\u001b[0m      \u001b[32m0.9116\u001b[0m        \u001b[35m0.6978\u001b[0m       \u001b[31m0.9788\u001b[0m       0.8500      0.8462        \u001b[32m0.6774\u001b[0m       0.9841        0.0100  0.0260\n",
      "      5       0.8875      0.8870        \u001b[35m0.6894\u001b[0m       0.9760       \u001b[94m0.9500\u001b[0m      \u001b[36m0.9487\u001b[0m        \u001b[32m0.6554\u001b[0m       \u001b[35m0.9921\u001b[0m     +  0.0100  0.0245\n",
      "      6       \u001b[36m0.9500\u001b[0m      \u001b[32m0.9508\u001b[0m        \u001b[35m0.6551\u001b[0m       \u001b[31m0.9942\u001b[0m       0.9000      0.8968        \u001b[32m0.6495\u001b[0m       0.9921        0.0100  0.0246\n",
      "      7       0.9500      0.9503        \u001b[35m0.6326\u001b[0m       0.9758       0.9000      0.8968        \u001b[32m0.6489\u001b[0m       0.9921        0.0100  0.0235\n",
      "      8       \u001b[36m0.9625\u001b[0m      \u001b[32m0.9618\u001b[0m        \u001b[35m0.6191\u001b[0m       \u001b[31m0.9972\u001b[0m       0.9000      0.8968        \u001b[32m0.6298\u001b[0m       \u001b[35m1.0000\u001b[0m        0.0100  0.0269\n",
      "      9       0.9375      0.9378        0.6239       0.9951       0.9500      0.9487        \u001b[32m0.6086\u001b[0m       0.9921        0.0100  0.0231\n",
      "     10       0.9625      \u001b[32m0.9628\u001b[0m        0.6209       0.9876       0.9000      0.8968        0.6155       0.9921        0.0100  0.0241\n",
      "     11       0.9125      0.9121        0.6393       0.9765       0.9500      0.9487        0.6162       0.9921        0.0017  0.0240\n",
      "     12       0.9500      0.9503        \u001b[35m0.6124\u001b[0m       0.9952       0.9500      0.9487        0.6159       0.9921        0.0017  0.0229\n",
      "     13       0.9375      0.9383        0.6316       0.9902       0.9500      0.9487        0.6114       0.9921        0.0017  0.0229\n",
      "     14       0.9625      \u001b[32m0.9630\u001b[0m        0.6163       0.9871       0.9500      0.9487        0.6097       0.9921        0.0017  0.0249\n",
      "     15       0.9500      0.9506        0.6162       0.9899       0.9500      0.9487        0.6109       0.9921        0.0017  0.0249\n",
      "     16       0.9250      0.9261        0.6368       0.9821       0.9500      0.9487        0.6092       0.9921        0.0017  0.0244\n",
      "     17       0.9500      0.9502        0.6277       0.9945       0.9500      0.9487        0.6099       0.9921        0.0017  0.0250\n",
      "     18       \u001b[36m0.9750\u001b[0m      \u001b[32m0.9753\u001b[0m        \u001b[35m0.6064\u001b[0m       0.9886       0.9500      0.9487        0.6133       1.0000        0.0017  0.0270\n",
      "     19       0.9125      0.9098        0.6615       0.9620       0.9500      0.9487        0.6099       1.0000        0.0017  0.0273\n",
      "     20       0.9625      0.9630        0.6081       0.9954       0.9500      0.9487        \u001b[32m0.6067\u001b[0m       1.0000        0.0017  0.0244\n",
      "     21       0.9375      0.9359        0.6278       0.9778       0.9500      0.9487        0.6077       1.0000        0.0003  0.0280\n",
      "     22       0.9375      0.9385        0.6326       0.9916       0.9500      0.9487        0.6077       1.0000        0.0003  0.0502\n",
      "     23       0.9625      0.9627        \u001b[35m0.5954\u001b[0m       \u001b[31m0.9975\u001b[0m       0.9500      0.9487        0.6071       1.0000        0.0003  0.0311\n",
      "     24       0.9500      0.9505        0.6276       0.9858       0.9500      0.9487        \u001b[32m0.6050\u001b[0m       1.0000        0.0003  0.0271\n",
      "     25       0.9750      0.9753        0.6020       0.9912       0.9500      0.9487        0.6079       1.0000        0.0003  0.0262\n",
      "     26       0.9625      0.9627        0.6178       0.9895       0.9500      0.9487        0.6074       1.0000        0.0003  0.0265\n",
      "     27       0.9250      0.9255        0.6383       0.9702       0.9500      0.9487        0.6062       1.0000        0.0003  0.0269\n",
      "     28       0.9750      0.9753        0.6104       0.9870       0.9500      0.9487        0.6090       1.0000        0.0003  0.0259\n",
      "     29       0.8875      0.8888        0.6615       0.9753       0.9500      0.9487        0.6110       1.0000        0.0003  0.0258\n",
      "     30       0.9125      0.9116        0.6288       0.9933       0.9500      0.9487        0.6090       1.0000        0.0003  0.0253\n",
      "     31       0.9375      0.9364        0.6294       0.9781       0.9500      0.9487        0.6078       1.0000        0.0001  0.0244\n",
      "     32       0.9500      0.9503        \u001b[35m0.5947\u001b[0m       \u001b[31m0.9986\u001b[0m       0.9500      0.9487        0.6104       1.0000        0.0001  0.0258\n",
      "     33       0.9375      0.9349        0.6207       0.9763       0.9500      0.9487        0.6065       1.0000        0.0001  0.0255\n",
      "     34       0.9750      0.9753        0.6062       0.9926       0.9500      0.9487        0.6091       1.0000        0.0001  0.0252\n",
      "     35       \u001b[36m0.9875\u001b[0m      \u001b[32m0.9877\u001b[0m        \u001b[35m0.5865\u001b[0m       \u001b[31m0.9986\u001b[0m       0.9500      0.9487        0.6105       1.0000        0.0001  0.0272\n",
      "     36       0.9625      0.9631        0.6060       0.9959       0.9500      0.9487        0.6121       1.0000        0.0001  0.0238\n",
      "     37       0.9500      0.9499        0.6049       0.9973       0.9500      0.9487        0.6113       1.0000        0.0001  0.0244\n",
      "     38       0.9500      0.9495        0.6221       0.9769       0.9500      0.9487        0.6097       1.0000        0.0001  0.0250\n",
      "     39       0.9750      0.9748        0.5987       0.9981       0.9500      0.9487        0.6093       1.0000        0.0001  0.0255\n",
      "     40       0.9250      0.9255        0.6385       0.9847       0.9500      0.9487        0.6102       1.0000        0.0001  0.0243\n",
      "     41       0.9500      0.9505        0.6134       0.9907       0.9500      0.9487        0.6092       1.0000        0.0000  0.0238\n",
      "     42       0.9750      0.9753        0.5943       0.9965       0.9500      0.9487        0.6082       1.0000        0.0000  0.0254\n",
      "     43       0.9750      0.9752        0.6120       0.9886       0.9500      0.9487        0.6077       1.0000        0.0000  0.0468\n",
      "     44       0.9500      0.9498        0.6082       0.9979       0.9500      0.9487        0.6069       1.0000        0.0000  0.0328\n",
      "     45       0.9375      0.9382        0.6441       0.9790       0.9500      0.9487        0.6070       1.0000        0.0000  0.0259\n",
      "     46       0.9625      0.9630        0.6024       \u001b[31m0.9989\u001b[0m       0.9500      0.9487        0.6088       1.0000        0.0000  0.0265\n",
      "     47       0.9375      0.9381        0.6157       0.9844       0.9500      0.9487        0.6108       1.0000        0.0000  0.0239\n",
      "     48       0.9000      0.9011        0.6606       0.9638       0.9500      0.9487        0.6118       1.0000        0.0000  0.0250\n",
      "     49       0.9625      0.9630        0.5998       0.9968       0.9500      0.9487        0.6088       1.0000        0.0000  0.0289\n",
      "     50       0.9625      0.9627        0.6054       0.9972       0.9500      0.9487        0.6102       1.0000        0.0000  0.0266\n",
      "     51       0.9625      0.9628        0.6082       0.9944       0.9500      0.9487        0.6110       1.0000        0.0000  0.0270\n",
      "     52       0.9500      0.9503        0.6062       0.9850       0.9500      0.9487        0.6091       1.0000        0.0000  0.0278\n",
      "     53       0.9625      0.9624        0.5999       0.9853       0.9500      0.9487        0.6101       1.0000        0.0000  0.0261\n",
      "     54       0.9625      0.9628        0.6161       0.9960       0.9500      0.9487        0.6069       1.0000        0.0000  0.0318\n",
      "     55       0.9625      0.9628        0.6101       0.9961       0.9500      0.9487        0.6080       1.0000        0.0000  0.0280\n",
      "     56       0.9625      0.9630        0.6136       0.9938       0.9500      0.9487        0.6069       1.0000        0.0000  0.0593\n",
      "     57       0.9375      0.9383        0.6207       0.9887       0.9500      0.9487        0.6079       1.0000        0.0000  0.0267\n",
      "     58       0.9375      0.9381        0.6399       0.9752       0.9500      0.9487        0.6060       1.0000        0.0000  0.0268\n",
      "     59       0.9750      0.9752        0.5946       0.9947       0.9500      0.9487        0.6102       1.0000        0.0000  0.0297\n",
      "     60       0.9500      0.9499        0.6095       0.9974       0.9500      0.9487        0.6084       1.0000        0.0000  0.0290\n",
      "     61       0.9625      0.9622        0.6241       0.9900       0.9500      0.9487        0.6083       1.0000        0.0000  0.0285\n",
      "     62       0.9375      0.9376        0.6096       0.9896       0.9500      0.9487        0.6108       1.0000        0.0000  0.0263\n",
      "     63       0.9625      0.9630        0.5979       0.9986       0.9500      0.9487        0.6130       1.0000        0.0000  0.0270\n",
      "     64       0.9875      0.9876        0.5937       0.9869       0.9500      0.9487        0.6129       1.0000        0.0000  0.0329\n",
      "     65       0.9250      0.9258        0.6400       0.9870       0.9500      0.9487        0.6104       1.0000        0.0000  0.0286\n",
      "     66       0.9625      0.9626        0.6024       0.9965       0.9500      0.9487        0.6094       1.0000        0.0000  0.0557\n",
      "     67       0.9375      0.9380        0.6390       0.9871       0.9500      0.9487        0.6083       1.0000        0.0000  0.0322\n",
      "     68       0.9375      0.9372        0.6118       0.9824       0.9500      0.9487        0.6101       1.0000        0.0000  0.0270\n",
      "     69       0.9750      0.9752        0.6076       0.9967       0.9500      0.9487        0.6085       1.0000        0.0000  0.0278\n",
      "     70       0.9000      0.9001        0.6494       0.9694       0.9500      0.9487        0.6087       1.0000        0.0000  0.0246\n",
      "     71       0.9500      0.9509        0.6240       0.9935       0.9500      0.9487        0.6082       1.0000        0.0000  0.0259\n",
      "     72       0.8750      0.8734        0.6716       0.9715       0.9500      0.9487        0.6084       1.0000        0.0000  0.0266\n",
      "     73       0.9375      0.9364        0.6352       0.9847       0.9500      0.9487        0.6083       1.0000        0.0000  0.0247\n",
      "     74       0.9375      0.9385        0.6334       0.9800       0.9500      0.9487        0.6104       1.0000        0.0000  0.0245\n",
      "     75       0.9375      0.9386        0.6199       0.9912       0.9500      0.9487        0.6081       1.0000        0.0000  0.0476\n"
     ]
    }
   ],
   "source": [
    "net=net.fit(X_train, y_train)"
   ]
  },
  {
   "cell_type": "code",
   "execution_count": 22,
   "id": "70fedc2b-fcfe-489f-9ea2-f5e71760b2c8",
   "metadata": {},
   "outputs": [],
   "source": [
    "train_loss_1, valid_loss_1, train_acc_1, valid_acc_1 = [], [], [], []\n",
    "train_f1_1, valid_f1_1, train_roc_1, valid_roc_1 = [], [], [], []\n",
    "\n",
    "history=net.history\n",
    "for i in range(len(history)):\n",
    "    train_loss_1.append(history[i]['train_loss'])\n",
    "    valid_loss_1.append(history[i]['valid_loss'])\n",
    "    train_acc_1.append(history[i]['train_acc'])\n",
    "    valid_acc_1.append(history[i]['valid_acc'])\n",
    "    train_f1_1.append(history[i]['train_f1'])\n",
    "    valid_f1_1.append(history[i]['valid_f1'])\n",
    "    train_roc_1.append(history[i]['train_roc'])\n",
    "    valid_roc_1.append(history[i]['valid_roc'])"
   ]
  },
  {
   "cell_type": "code",
   "execution_count": 24,
   "id": "42b91d0c-85d6-4574-824f-c5cf01ee7722",
   "metadata": {},
   "outputs": [
    {
     "data": {
      "image/png": "[encoded data removed]",
      "text/plain": [
       "<Figure size 864x576 with 4 Axes>"
      ]
     },
     "metadata": {},
     "output_type": "display_data"
    }
   ],
   "source": [
    "fig, ax = plt.subplots(figsize=(12,8), ncols=2, nrows=2)\n",
    "\n",
    "ax[0,0].plot(train_loss_1, color='b', label='train')\n",
    "ax[0,0].plot(valid_loss_1, color='r', label='valid')\n",
    "ax[0,0].legend(loc='best')\n",
    "ax[0,0].set_title('Loss')\n",
    "\n",
    "ax[0,1].plot(train_acc_1, color='b', label='train')\n",
    "ax[0,1].plot(valid_acc_1, color='r', label='valid')\n",
    "ax[0,1].legend(loc='best')\n",
    "ax[0,1].set_title('Accuracy')\n",
    "\n",
    "ax[1,0].plot(train_f1_1, color='b',  label='train')\n",
    "ax[1,0].plot(valid_f1_1, color='r',  label='valid')\n",
    "ax[1,0].legend(loc='best')\n",
    "ax[1,0].set_title('F1_score')\n",
    "\n",
    "ax[1,1].plot(train_roc_1, color='b', label='train')\n",
    "ax[1,1].plot(valid_roc_1, color='r', label='valid')\n",
    "ax[1,1].legend(loc='best')\n",
    "ax[1,1].set_title('ROC_AUC')\n",
    "\n",
    "plt.show()"
   ]
  },
  {
   "cell_type": "code",
   "execution_count": 35,
   "id": "51d05a20-c7e3-4be3-ac47-1706db94780c",
   "metadata": {},
   "outputs": [],
   "source": [
    "y_pred_train=net.predict_proba(X_train)"
   ]
  },
  {
   "cell_type": "code",
   "execution_count": 36,
   "id": "968b19e1-13e7-43d8-a9db-ff85612cf8ee",
   "metadata": {},
   "outputs": [],
   "source": [
    "from sklearn.metrics import *"
   ]
  },
  {
   "cell_type": "code",
   "execution_count": 44,
   "id": "5188c984-abe4-48ed-b3e7-84f07b0e1d51",
   "metadata": {},
   "outputs": [],
   "source": [
    "fpr = {}\n",
    "tpr = {}\n",
    "roc_auc = {}\n",
    "\n",
    "n_class = 3\n",
    "\n",
    "for i in range(n_class):    \n",
    "    fpr[i], tpr[i], _ = roc_curve(y_train,y_pred_train[:,i], pos_label=i)\n",
    "    roc_auc[i] = auc(fpr[i], tpr[i])"
   ]
  },
  {
   "cell_type": "code",
   "execution_count": 56,
   "id": "d2037537-066c-4dbc-ba90-c3c30869b89b",
   "metadata": {},
   "outputs": [
    {
     "data": {
      "image/png": "[encoded data removed]",
      "text/plain": [
       "<Figure size 432x288 with 1 Axes>"
      ]
     },
     "metadata": {},
     "output_type": "display_data"
    }
   ],
   "source": [
    "# plotting  \n",
    "n_classes=3\n",
    "for i in range(n_classes):\n",
    "    plt.plot(fpr[i], tpr[i], label='Class '+str(i)+' ROC curve (area=%0.3f)'%roc_auc[i])\n",
    "\n",
    "# First aggregate all false positive rates\n",
    "all_fpr = np.unique(np.concatenate([fpr[i] for i in range(n_classes)]))\n",
    "\n",
    "# Then interpolate all ROC curves at this points\n",
    "mean_tpr = np.zeros_like(all_fpr)\n",
    "for i in range(n_classes):\n",
    "    mean_tpr += np.interp(all_fpr, fpr[i], tpr[i])\n",
    "\n",
    "# Finally average it and compute AUC\n",
    "mean_tpr /= n_classes\n",
    "\n",
    "fpr[\"macro\"] = all_fpr\n",
    "tpr[\"macro\"] = mean_tpr\n",
    "roc_auc[\"macro\"] = auc(fpr[\"macro\"], tpr[\"macro\"])\n",
    "\n",
    "plt.plot(fpr[\"macro\"],tpr[\"macro\"],linestyle='dashdot',linewidth=2,label=\"MacroROC curve (area = {0:0.2f})\".format(roc_auc[\"macro\"]))    \n",
    "\n",
    "plt.plot([0, 1], [0, 1], color='black', lw=2, linestyle='dashed')   \n",
    "plt.title('Multiclass ROC curve');\n",
    "plt.xlabel('False Positive Rate');\n",
    "plt.ylabel('True Positive Rate');\n",
    "plt.legend(loc='best');"
   ]
  },
  {
   "cell_type": "code",
   "execution_count": null,
   "id": "7ba33030-5c9f-46fe-8227-a55cb804a156",
   "metadata": {},
   "outputs": [],
   "source": []
  }
 ],
 "metadata": {
  "kernelspec": {
   "display_name": "Python 3 (ipykernel)",
   "language": "python",
   "name": "python3"
  },
  "language_info": {
   "codemirror_mode": {
    "name": "ipython",
    "version": 3
   },
   "file_extension": ".py",
   "mimetype": "text/x-python",
   "name": "python",
   "nbconvert_exporter": "python",
   "pygments_lexer": "ipython3",
   "version": "3.8.12"
  }
 },
 "nbformat": 4,
 "nbformat_minor": 5
}
